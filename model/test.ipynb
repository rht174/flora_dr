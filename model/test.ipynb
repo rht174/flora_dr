{
 "cells": [
  {
   "cell_type": "code",
   "execution_count": 7,
   "metadata": {
    "collapsed": true
   },
   "outputs": [],
   "source": [
    "from tensorflow.keras.models import load_model\n",
    "from keras.applications.mobilenet_v2 import decode_predictions\n",
    "import numpy as np\n",
    "import tensorflow as tf\n",
    "from tensorflow import keras\n",
    "from keras.applications.mobilenet_v2 import preprocess_input"
   ]
  },
  {
   "cell_type": "code",
   "execution_count": 8,
   "outputs": [],
   "source": [
    "model = load_model('apple_model.h5')"
   ],
   "metadata": {
    "collapsed": false
   }
  },
  {
   "cell_type": "code",
   "execution_count": 9,
   "outputs": [],
   "source": [
    "img = tf.keras.preprocessing.image.load_img('data/apple/test/Apple_Cedar_apple_rust/Apple_Cedar_apple_rust4820.jpg',\n",
    "                                            target_size=(224, 224))"
   ],
   "metadata": {
    "collapsed": false
   }
  },
  {
   "cell_type": "code",
   "execution_count": 10,
   "outputs": [],
   "source": [
    "img = tf.keras.utils.img_to_array(img)"
   ],
   "metadata": {
    "collapsed": false
   }
  },
  {
   "cell_type": "code",
   "execution_count": 11,
   "outputs": [
    {
     "data": {
      "text/plain": "array([[[166., 156., 155.],\n        [164., 154., 153.],\n        [162., 152., 151.],\n        ...,\n        [170., 165., 162.],\n        [167., 162., 159.],\n        [172., 167., 164.]],\n\n       [[167., 157., 156.],\n        [165., 155., 154.],\n        [161., 151., 150.],\n        ...,\n        [168., 163., 160.],\n        [165., 160., 157.],\n        [171., 166., 163.]],\n\n       [[169., 159., 158.],\n        [166., 156., 155.],\n        [161., 151., 150.],\n        ...,\n        [166., 161., 158.],\n        [164., 159., 156.],\n        [171., 166., 163.]],\n\n       ...,\n\n       [[108., 103., 100.],\n        [106., 101.,  98.],\n        [106., 101.,  98.],\n        ...,\n        [140., 135., 132.],\n        [137., 132., 129.],\n        [140., 135., 132.]],\n\n       [[107., 102.,  99.],\n        [105., 100.,  97.],\n        [106., 101.,  98.],\n        ...,\n        [145., 140., 137.],\n        [141., 136., 133.],\n        [143., 138., 135.]],\n\n       [[106., 101.,  98.],\n        [104.,  99.,  96.],\n        [106., 101.,  98.],\n        ...,\n        [151., 146., 143.],\n        [146., 141., 138.],\n        [147., 142., 139.]]], dtype=float32)"
     },
     "execution_count": 11,
     "metadata": {},
     "output_type": "execute_result"
    }
   ],
   "source": [
    "img"
   ],
   "metadata": {
    "collapsed": false
   }
  },
  {
   "cell_type": "code",
   "execution_count": 12,
   "outputs": [],
   "source": [
    "img = img.reshape((1, img.shape[0], img.shape[1], img.shape[2]))"
   ],
   "metadata": {
    "collapsed": false
   }
  },
  {
   "cell_type": "code",
   "execution_count": 13,
   "outputs": [],
   "source": [
    "img = preprocess_input(img)"
   ],
   "metadata": {
    "collapsed": false
   }
  },
  {
   "cell_type": "code",
   "execution_count": 14,
   "outputs": [
    {
     "name": "stdout",
     "output_type": "stream",
     "text": [
      "1/1 [==============================] - 0s 479ms/step\n"
     ]
    }
   ],
   "source": [
    "pred = model.predict(img)"
   ],
   "metadata": {
    "collapsed": false
   }
  },
  {
   "cell_type": "code",
   "execution_count": 16,
   "outputs": [
    {
     "data": {
      "text/plain": "array([[0., 0., 1., 0.]], dtype=float32)"
     },
     "execution_count": 16,
     "metadata": {},
     "output_type": "execute_result"
    }
   ],
   "source": [
    "pred"
   ],
   "metadata": {
    "collapsed": false
   }
  },
  {
   "cell_type": "code",
   "execution_count": null,
   "outputs": [],
   "source": [],
   "metadata": {
    "collapsed": false
   }
  }
 ],
 "metadata": {
  "kernelspec": {
   "display_name": "Python 3",
   "language": "python",
   "name": "python3"
  },
  "language_info": {
   "codemirror_mode": {
    "name": "ipython",
    "version": 2
   },
   "file_extension": ".py",
   "mimetype": "text/x-python",
   "name": "python",
   "nbconvert_exporter": "python",
   "pygments_lexer": "ipython2",
   "version": "2.7.6"
  }
 },
 "nbformat": 4,
 "nbformat_minor": 0
}
